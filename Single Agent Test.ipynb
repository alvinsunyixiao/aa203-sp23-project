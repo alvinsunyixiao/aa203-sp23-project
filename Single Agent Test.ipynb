{
 "cells": [
  {
   "cell_type": "code",
   "execution_count": 1,
   "id": "00a739fc",
   "metadata": {},
   "outputs": [],
   "source": [
    "import jax\n",
    "import numpy as np\n",
    "import matplotlib.pyplot as plt\n",
    "import jax.numpy as jnp\n",
    "from tqdm import tqdm, trange"
   ]
  },
  {
   "cell_type": "code",
   "execution_count": 2,
   "id": "273335c7",
   "metadata": {},
   "outputs": [
    {
     "name": "stderr",
     "output_type": "stream",
     "text": [
      "WARNING:absl:Tensorflow library not found, tensorflow.io.gfile operations will use native shim calls. GCS paths (i.e. 'gs://...') cannot be accessed.\n"
     ]
    }
   ],
   "source": [
    "from jax.config import config\n",
    "from model import NeuralCBF\n",
    "from dynamics import DoubleIntegrator"
   ]
  },
  {
   "cell_type": "code",
   "execution_count": 3,
   "id": "19b9e3ef",
   "metadata": {},
   "outputs": [],
   "source": [
    "config.update(\"jax_enable_x64\", True)"
   ]
  },
  {
   "cell_type": "code",
   "execution_count": 4,
   "id": "38338e18",
   "metadata": {},
   "outputs": [],
   "source": [
    "dyn = DoubleIntegrator()\n",
    "cbf = NeuralCBF(dyn, cbf_lambda=.2)"
   ]
  },
  {
   "cell_type": "code",
   "execution_count": 5,
   "id": "639626f1",
   "metadata": {},
   "outputs": [],
   "source": [
    "cbf.load(\"ckpts/checkpoint_5300/\")"
   ]
  },
  {
   "cell_type": "code",
   "execution_count": 11,
   "id": "87439c0a",
   "metadata": {},
   "outputs": [],
   "source": [
    "x = jnp.array([-1., -0.001, 0., 0.])\n",
    "x_target = jnp.array([1., 0., 0., 0.])\n",
    "u_ref = jnp.array([1., 0.])"
   ]
  },
  {
   "cell_type": "code",
   "execution_count": 12,
   "id": "59012fa0",
   "metadata": {},
   "outputs": [
    {
     "data": {
      "text/plain": [
       "(Array([1., 0.], dtype=float64),\n",
       " (Array(-0.64816359, dtype=float64),\n",
       "  Array(-0.14911567, dtype=float64),\n",
       "  OptStep(params=KKTSolution(primal=Array([1., 0., 0.], dtype=float64), dual_eq=None, dual_ineq=Array([0., 0., 0., 0., 0.], dtype=float64)), state=OSQPState(iter_num=Array(1, dtype=int64, weak_type=True), error=Array(0., dtype=float64, weak_type=True), status=Array(1, dtype=int64, weak_type=True)))))"
      ]
     },
     "execution_count": 12,
     "metadata": {},
     "output_type": "execute_result"
    }
   ],
   "source": [
    "cbf.policy(x, u_ref=u_ref, relaxation_penalty=1e6)"
   ]
  },
  {
   "cell_type": "code",
   "execution_count": 13,
   "id": "dc4c912f",
   "metadata": {},
   "outputs": [],
   "source": [
    "K = np.array([[1., 0., 1.7, 0.],\n",
    "              [0., 1., 0., 1.7]])"
   ]
  },
  {
   "cell_type": "code",
   "execution_count": 14,
   "id": "4b669a62",
   "metadata": {},
   "outputs": [
    {
     "name": "stderr",
     "output_type": "stream",
     "text": [
      "100%|████████████████████████████████████████████████████████████████████████████████████████████████████████████████████████████████████████████| 1000/1000 [01:11<00:00, 13.93it/s]\n"
     ]
    }
   ],
   "source": [
    "dt = 1e-2\n",
    "T = 10\n",
    "N = int(T / dt) + 1\n",
    "xs = np.zeros((N, x.shape[0]))\n",
    "xs[0] = x\n",
    "u = None\n",
    "for i in trange(1, N):\n",
    "    u_ref = K @ (x_target - xs[i-1])\n",
    "    u, _ = cbf.policy(xs[i-1], u_ref=u_ref, u_init=u)\n",
    "    xs[i] = xs[i - 1] + dt * dyn.dynamics(xs[i-1], u)"
   ]
  },
  {
   "cell_type": "code",
   "execution_count": 15,
   "id": "e8ab82a8",
   "metadata": {},
   "outputs": [
    {
     "data": {
      "image/png": "[encoded data removed]",
      "text/plain": [
       "<Figure size 640x480 with 1 Axes>"
      ]
     },
     "metadata": {},
     "output_type": "display_data"
    }
   ],
   "source": [
    "plt.plot(xs[:, 0], xs[:, 1])\n",
    "ax = plt.gca()\n",
    "ax.set_aspect('equal', adjustable='box')"
   ]
  },
  {
   "cell_type": "code",
   "execution_count": 5,
   "id": "a03ef1e5",
   "metadata": {},
   "outputs": [],
   "source": [
    "batch = dyn.sample(jax.random.PRNGKey(42), 1024)"
   ]
  },
  {
   "cell_type": "code",
   "execution_count": 6,
   "id": "4c92b763",
   "metadata": {},
   "outputs": [],
   "source": [
    "batch_safe = batch[dyn.is_safe(batch)]\n",
    "batch_unsafe = batch[dyn.is_unsafe(batch)]"
   ]
  },
  {
   "cell_type": "code",
   "execution_count": 7,
   "id": "1f3f7f7f",
   "metadata": {},
   "outputs": [
    {
     "data": {
      "text/plain": [
       "326"
      ]
     },
     "execution_count": 7,
     "metadata": {},
     "output_type": "execute_result"
    }
   ],
   "source": [
    "batch_safe.shape[0]"
   ]
  },
  {
   "cell_type": "code",
   "execution_count": 8,
   "id": "f6c4e01b",
   "metadata": {},
   "outputs": [
    {
     "data": {
      "text/plain": [
       "538"
      ]
     },
     "execution_count": 8,
     "metadata": {},
     "output_type": "execute_result"
    }
   ],
   "source": [
    "batch_unsafe.shape[0]"
   ]
  },
  {
   "cell_type": "code",
   "execution_count": null,
   "id": "4c55b1b1",
   "metadata": {},
   "outputs": [],
   "source": []
  }
 ],
 "metadata": {
  "kernelspec": {
   "display_name": "Python 3 (ipykernel)",
   "language": "python",
   "name": "python3"
  },
  "language_info": {
   "codemirror_mode": {
    "name": "ipython",
    "version": 3
   },
   "file_extension": ".py",
   "mimetype": "text/x-python",
   "name": "python",
   "nbconvert_exporter": "python",
   "pygments_lexer": "ipython3",
   "version": "3.10.11"
  }
 },
 "nbformat": 4,
 "nbformat_minor": 5
}
